{
 "cells": [
  {
   "cell_type": "code",
   "execution_count": null,
   "id": "53e0497f-c9ec-459e-88a1-8dae0fddf96f",
   "metadata": {},
   "outputs": [],
   "source": [
    "import yfinance as yf\n",
    "import pandas as pd\n",
    "import numpy as np\n",
    "import matplotlib.pyplot as plt"
   ]
  },
  {
   "cell_type": "code",
   "execution_count": null,
   "id": "c7068029-b7a4-4226-a7b3-8d6955d6e0bc",
   "metadata": {},
   "outputs": [],
   "source": [
    " apple = yf.download(\"AAPL\", start=\"2010-01-01\", end=\"2021-01-01\")"
   ]
  },
  {
   "cell_type": "code",
   "execution_count": null,
   "id": "7a71bdda-b8a2-44db-875b-ad94e2902b37",
   "metadata": {},
   "outputs": [],
   "source": [
    "apple"
   ]
  },
  {
   "cell_type": "code",
   "execution_count": null,
   "id": "1aa9b15f-6747-4906-88e9-8357b342623b",
   "metadata": {},
   "outputs": [],
   "source": [
    "ticker = [\"SPY\", \"AAPL\", \"KO\"]"
   ]
  },
  {
   "cell_type": "code",
   "execution_count": null,
   "id": "5f8c46f8-c7ef-41ea-89b4-a996ff4e8fcb",
   "metadata": {},
   "outputs": [],
   "source": [
    "stocks = yf.download(ticker, start = \"2010-01-01\", end =\"2021-01-01\")"
   ]
  },
  {
   "cell_type": "code",
   "execution_count": null,
   "id": "bcc1c10f-90a1-4f8e-aec8-dc7848fa956f",
   "metadata": {},
   "outputs": [],
   "source": [
    "stocks"
   ]
  },
  {
   "cell_type": "code",
   "execution_count": null,
   "id": "70d92dad-6aae-49cb-b4b8-388f94f69ece",
   "metadata": {},
   "outputs": [],
   "source": [
    "stocks.head()"
   ]
  },
  {
   "cell_type": "code",
   "execution_count": null,
   "id": "aff749cd-5a90-476e-ab62-1bfea60e8cbc",
   "metadata": {},
   "outputs": [],
   "source": [
    "stocks.tail()"
   ]
  },
  {
   "cell_type": "code",
   "execution_count": null,
   "id": "e7a33d6e-3d6d-412a-ac58-014adc6f9759",
   "metadata": {},
   "outputs": [],
   "source": [
    "stocks.info()"
   ]
  },
  {
   "cell_type": "code",
   "execution_count": null,
   "id": "01ce9d9a-749d-4504-ad16-b5a24a56c3c9",
   "metadata": {},
   "outputs": [],
   "source": [
    "stocks.to_csv(\"stocksYT.csv\")"
   ]
  },
  {
   "cell_type": "code",
   "execution_count": null,
   "id": "dc96492a-e1a5-4bb7-ad72-e0d74c7c6a28",
   "metadata": {},
   "outputs": [],
   "source": [
    "stocks = pd.read_csv(\"stocksYT.csv\")"
   ]
  },
  {
   "cell_type": "code",
   "execution_count": null,
   "id": "c29f5b46-2105-4532-a5e6-aaee303ac6f6",
   "metadata": {},
   "outputs": [],
   "source": [
    "stocks"
   ]
  },
  {
   "cell_type": "code",
   "execution_count": null,
   "id": "deec5409-d65f-4cdb-938b-f53fbb575dc5",
   "metadata": {},
   "outputs": [],
   "source": [
    "stocks = pd.read_csv(\"stocksYT.csv\", header=[0,1])\n",
    "stocks"
   ]
  },
  {
   "cell_type": "code",
   "execution_count": null,
   "id": "bf11849a-b1c4-4cb4-bf37-7ce9d86b4d39",
   "metadata": {},
   "outputs": [],
   "source": [
    "stocks = pd.read_csv(\"stocksYT.csv\", header=[0,1], index_col =[0])\n",
    "stocks"
   ]
  },
  {
   "cell_type": "code",
   "execution_count": null,
   "id": "b12d9156-c18d-432c-ab7c-203ff5278d64",
   "metadata": {},
   "outputs": [],
   "source": [
    "stocks = pd.read_csv(\"stocksYT.csv\", header=[0,1], index_col =[0], parse_dates=[0])\n",
    "stocks"
   ]
  },
  {
   "cell_type": "code",
   "execution_count": 21,
   "id": "30ac7359-00e9-49e5-abeb-6ae7a1e3c801",
   "metadata": {},
   "outputs": [
    {
     "data": {
      "text/plain": [
       "MultiIndex([('Adj Close', 'AAPL'),\n",
       "            ('Adj Close',   'KO'),\n",
       "            ('Adj Close',  'SPY'),\n",
       "            (    'Close', 'AAPL'),\n",
       "            (    'Close',   'KO'),\n",
       "            (    'Close',  'SPY'),\n",
       "            (     'High', 'AAPL'),\n",
       "            (     'High',   'KO'),\n",
       "            (     'High',  'SPY'),\n",
       "            (      'Low', 'AAPL'),\n",
       "            (      'Low',   'KO'),\n",
       "            (      'Low',  'SPY'),\n",
       "            (     'Open', 'AAPL'),\n",
       "            (     'Open',   'KO'),\n",
       "            (     'Open',  'SPY'),\n",
       "            (   'Volume', 'AAPL'),\n",
       "            (   'Volume',   'KO'),\n",
       "            (   'Volume',  'SPY')],\n",
       "           )"
      ]
     },
     "execution_count": 21,
     "metadata": {},
     "output_type": "execute_result"
    }
   ],
   "source": [
    "stocks.columns"
   ]
  },
  {
   "cell_type": "code",
   "execution_count": 23,
   "id": "f1428773-1c8e-4bda-87f7-04006688636c",
   "metadata": {},
   "outputs": [
    {
     "data": {
      "text/plain": [
       "Index([('Adj Close', 'AAPL'),   ('Adj Close', 'KO'),  ('Adj Close', 'SPY'),\n",
       "           ('Close', 'AAPL'),       ('Close', 'KO'),      ('Close', 'SPY'),\n",
       "            ('High', 'AAPL'),        ('High', 'KO'),       ('High', 'SPY'),\n",
       "             ('Low', 'AAPL'),         ('Low', 'KO'),        ('Low', 'SPY'),\n",
       "            ('Open', 'AAPL'),        ('Open', 'KO'),       ('Open', 'SPY'),\n",
       "          ('Volume', 'AAPL'),      ('Volume', 'KO'),     ('Volume', 'SPY')],\n",
       "      dtype='object')"
      ]
     },
     "execution_count": 23,
     "metadata": {},
     "output_type": "execute_result"
    }
   ],
   "source": [
    "stocks.columns = stocks.columns.to_flat_index()\n",
    "stocks.columns"
   ]
  },
  {
   "cell_type": "code",
   "execution_count": 25,
   "id": "e109e793-fb6d-462e-82d4-23630ea67255",
   "metadata": {},
   "outputs": [
    {
     "data": {
      "text/plain": [
       "MultiIndex([('Adj Close', 'AAPL'),\n",
       "            ('Adj Close',   'KO'),\n",
       "            ('Adj Close',  'SPY'),\n",
       "            (    'Close', 'AAPL'),\n",
       "            (    'Close',   'KO'),\n",
       "            (    'Close',  'SPY'),\n",
       "            (     'High', 'AAPL'),\n",
       "            (     'High',   'KO'),\n",
       "            (     'High',  'SPY'),\n",
       "            (      'Low', 'AAPL'),\n",
       "            (      'Low',   'KO'),\n",
       "            (      'Low',  'SPY'),\n",
       "            (     'Open', 'AAPL'),\n",
       "            (     'Open',   'KO'),\n",
       "            (     'Open',  'SPY'),\n",
       "            (   'Volume', 'AAPL'),\n",
       "            (   'Volume',   'KO'),\n",
       "            (   'Volume',  'SPY')],\n",
       "           )"
      ]
     },
     "execution_count": 25,
     "metadata": {},
     "output_type": "execute_result"
    }
   ],
   "source": [
    "stocks.columns = pd.MultiIndex.from_tuples(stocks.columns)\n",
    "stocks.columns"
   ]
  },
  {
   "cell_type": "code",
   "execution_count": null,
   "id": "d7759620-b1e6-4b78-89be-f8b824206cde",
   "metadata": {},
   "outputs": [],
   "source": []
  }
 ],
 "metadata": {
  "kernelspec": {
   "display_name": "basic_algo_trade",
   "language": "python",
   "name": "basic_algo_trade"
  },
  "language_info": {
   "codemirror_mode": {
    "name": "ipython",
    "version": 3
   },
   "file_extension": ".py",
   "mimetype": "text/x-python",
   "name": "python",
   "nbconvert_exporter": "python",
   "pygments_lexer": "ipython3",
   "version": "3.10.11"
  }
 },
 "nbformat": 4,
 "nbformat_minor": 5
}
