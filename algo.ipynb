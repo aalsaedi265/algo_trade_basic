{
 "cells": [
  {
   "cell_type": "code",
   "execution_count": null,
   "id": "53e0497f-c9ec-459e-88a1-8dae0fddf96f",
   "metadata": {},
   "outputs": [],
   "source": []
  }
 ],
 "metadata": {
  "kernelspec": {
   "display_name": "basic_algo_trade",
   "language": "python",
   "name": "basic_algo_trade"
  },
  "language_info": {
   "codemirror_mode": {
    "name": "ipython",
    "version": 3
   },
   "file_extension": ".py",
   "mimetype": "text/x-python",
   "name": "python",
   "nbconvert_exporter": "python",
   "pygments_lexer": "ipython3",
   "version": "3.10.11"
  }
 },
 "nbformat": 4,
 "nbformat_minor": 5
}
